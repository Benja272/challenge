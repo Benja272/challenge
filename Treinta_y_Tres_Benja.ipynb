{
  "nbformat": 4,
  "nbformat_minor": 0,
  "metadata": {
    "colab": {
      "name": "Treinta y Tres Benja",
      "provenance": [],
      "collapsed_sections": [],
      "include_colab_link": true
    },
    "kernelspec": {
      "name": "python3",
      "display_name": "Python 3"
    },
    "language_info": {
      "name": "python"
    }
  },
  "cells": [
    {
      "cell_type": "markdown",
      "metadata": {
        "id": "view-in-github",
        "colab_type": "text"
      },
      "source": [
        "<a href=\"https://colab.research.google.com/github/Benja272/challenge/blob/main/Treinta_y_Tres_Benja.ipynb\" target=\"_parent\"><img src=\"https://colab.research.google.com/assets/colab-badge.svg\" alt=\"Open In Colab\"/></a>"
      ]
    },
    {
      "cell_type": "markdown",
      "source": [
        "##Calculo probabilistico del evento: \"En un truco(el juego tradicional) de 6 personas les toque 33 puntos para el envido\"\n",
        "\n",
        "---\n",
        "\n",
        "\n",
        "La idea que se me ocurrió tiene que ver con la idea sugerida al final del notebook: https://colab.research.google.com/drive/1Na-oZDrrwciQvYq-10RD5XOeeJI6UNhD?usp=sharing.  \n",
        "\n",
        "Básicamente pienso en términos de manos posibles, a diferencia del método por **\"repartijas\"** no considero el orden de las cartas en las diferentes probabilidades que calculo.\n",
        "\n",
        "Entiendo al evento de tener 33 puntos como una coincidencia de eventos que deberían ocurrir.\n",
        "Con A = \"Un jugador tiene 33 puntos para el envido\"\n",
        "\n",
        "Los A prima y doble prima son equivalentes a A.  \n",
        "P(A $\\bigcap$ A' $\\bigcap$ A'') = \"*\"  \n",
        "\n",
        "Como son eventos que no son independientes tengo que   \n",
        "\"*\" = P(A $\\bigcap$ A' ) . P(A'' | A $\\bigcap$ A' )\n",
        "\n",
        "El segundo operando en una probabilidad condicionada de\n",
        " que ocurra A'' siendo que ocurrio A $\\bigcap$ A' \n",
        "\n",
        "Repitiendo esta regla un total de 3 veces obtenemos:  \n",
        "\"*\" = P(A) . P (A' | A) . P(A'' | A $\\bigcap$ A') \n",
        "\n",
        "##P(A)?\n",
        "Pensando en la totalidad de manos que podrian conformar una mano con 33 puntos tenemos que\n",
        "$$P(A) = \\frac{\\binom{4}{1} . \\binom{38}{1}}{\\binom{40}{3}}  = 0.0153846$$\n",
        "\n",
        "Ya que tenemos que son 4 palos posibles para conformar los 33 puntos, y además tenemos 38 otras cartas posibles para conformar una mano con 33 puntos. El combinatorio de abajo representa rodas las posibles manos.\n",
        "\n",
        "##P (A' | A)?\n",
        "Siguiendo la lógica anterior\n",
        "$$P(A' | A)_1 = \\frac{\\binom{3}{1} . \\binom{35}{1}}{\\binom{37}{3}}  = 0.0135135$$\n",
        "\n",
        "##P(A'' | A $\\bigcap$ A')?\n",
        "$$P(A'' | A \\bigcap A')_1 = \\frac{\\binom{2}{1} . \\binom{32}{1}}{\\binom{34}{3}}  = 0.0106951$$\n",
        "\n",
        "Ahora pensando en la cantidad de formas en las que 3 jugadores tienen 33 puntos son $\\binom{6}{3}$ = 20\n",
        "\n",
        "multiplicando todos estos factores obtenemos 0.0000444 la probabilidad de que ocurra que 3 jugadores tengan 33 puntos. \n",
        "\n",
        "Ahora me doy cuenta de que estaría contando posibilidades de mas porque para el primer P(A) considero que el 6 y el 7 del mismo palo podrían estar con cualquiera de las otras cartas, incluyendo otros 7 y 6s ahora eso cuenta casos en los que la siguiente probabilidad seria menor porque si asumimos que la 3er carta del primer jugador es otro 7 o 6, me queda que el segundo jugador tiene 2 palos en lugar de 3 para elegir sus 6 y 7. Y eso me hace pensar que en el método de las repartijas lo que podría estar mal es que para los $$X_0 $$ \n",
        "\n",
        "en las probabilidades se considera que la cantidad de palos para elegir los 7 y 6 van de 4 a 2. Mientras que la cantidad de cartas con las que se combina van de 34(sale de las 40 menos las 6 cartas de (7,6)s) hasta 32, por lo que estaria ocurriendo tambien pero en menor medida que se cuentan por ejemplo casos en los que al primer jugador le tocan (6,7,6') donde 6' estaría considerado en el por 34, pero no luego cuando asumimos que el segundo jugador tiene 3 palos distintos para que le toque el 6 y 7.\n",
        "\n",
        "Por lo dicho en el primer parrafo en P(A' | A) deberiamos dividir por casos:  \n",
        "1) La 3er carta es cualquier otra carta que no es un 6 o 7.  \n",
        "2) La 3er carta ademas del 6 y 7 del mismo palo es otro 6 o 7.  \n",
        "\n",
        "1) La probabilidad se mantiene igual  \n",
        "2) $$P(A' | A)_2 = \\frac{\\binom{2}{1} . \\binom{35}{1}}{\\binom{37}{3}}  = 0.009009$$\n",
        "\n",
        "Como la probabilidad de que ocurra 1) es de $\\frac{6}{38}$ porque son 6 la suma de 6 y 7 restantes. Y para 2) seria el complemento de esa probabilidad, osea $\\frac{32}{38}$\n",
        "\n",
        "$$P(A' | A) = \\frac{6}{38} . P(A' | A)_1 + \\frac{32}{38} . P(A' | A)_2 = 0.0128021$$\n",
        "\n",
        "Luego para P(A'' | A $\\bigcap$ A') tendremos 3 casos para pensar  \n",
        "1)En la 3er carta del primer y segundo jugador salio un 6 o un 7   \n",
        "  a) podría pasar que para el ultimo jugador no le quedo ningún palo para formar 33 puntos. ($\\frac{6}{38}$ . $\\frac{1}{35}$)   \n",
        "  b) Solo le queda 1 palo para formar los 33 puntos. ($\\frac{6}{38}$ . $\\frac{2}{35}$)  \n",
        "2)Solo a 1 le toco en su 3er carta un 6 o 7 (al ultimo jugador le queda un palo de 6 y 7 para armar 33 puntos).  \n",
        "  a)Al primero le toco un 6 o 7 de tercer carta ($\\frac{6}{38}$ . $\\frac{32}{35}$)  \n",
        "  b)Al segundo le toco un 6 o 7 de tercer carta ($\\frac{32}{38}$ . $\\frac{4}{35}$)\n",
        "\n",
        "3)Caso en el que ninguno de los primeros 2 jugadores le toca un 6 o 7 de tercer carta($\\frac{32}{38}$ . $\\frac{31}{35}$).\n",
        "\n",
        "El caso 1a) se omite porque no da posibilidad a que 3 jugadores tengan 33 puntos.\n",
        "\n",
        "Luego se suman los casos 1b) , 2a) y 2b) porque terminan en que el ultimo tenga solo un palo para armar 33 puntos.\n",
        "\n",
        "$$P(A'' | A \\bigcap A')_2 = \\frac{\\binom{1}{1} . \\binom{32}{1}}{\\binom{34}{3}}  = 0.0053475$$  \n",
        "\n",
        "$$P(A'' | A \\bigcap A') = ((\\frac{6}{38} . \\frac{2}{35}) + (\\frac{6}{38} . \\frac{32}{35}) + (\\frac{32}{38} . \\frac{4}{35})) . P(A'' | A \\bigcap A')_2 + $$  \n",
        "+ $$(\\frac{32}{38} . \\frac{31}{35}) . P(A'' | A \\bigcap A')_1$$  \n",
        "$$P(A'' | A \\bigcap A') = 0.0093118$$\n",
        "\n",
        "Volviendo a multiplicar los factores, me queda el resultado igual a 0.00003668014\n",
        "\n",
        "Por ultimo, hice una leve modificación en el código que disminuye considerablemente el tiempo de ejecución"
      ],
      "metadata": {
        "id": "CEUhCbi5J7Yb"
      }
    },
    {
      "cell_type": "code",
      "source": [
        "import numpy as np\n",
        "np.random.seed(1234567)\n",
        "mazo = arr = np.arange(40)\n",
        "mazo"
      ],
      "metadata": {
        "colab": {
          "base_uri": "https://localhost:8080/"
        },
        "id": "jvExDZORlkzt",
        "outputId": "6ba8e438-c9b7-42db-a267-35ee148d3737"
      },
      "execution_count": null,
      "outputs": [
        {
          "output_type": "execute_result",
          "data": {
            "text/plain": [
              "array([ 0,  1,  2,  3,  4,  5,  6,  7,  8,  9, 10, 11, 12, 13, 14, 15, 16,\n",
              "       17, 18, 19, 20, 21, 22, 23, 24, 25, 26, 27, 28, 29, 30, 31, 32, 33,\n",
              "       34, 35, 36, 37, 38, 39])"
            ]
          },
          "metadata": {},
          "execution_count": 7
        }
      ]
    },
    {
      "cell_type": "code",
      "source": [
        "%%time\n",
        "\n",
        "def chequear_si_tiene_33(jugador, mazo, par):\n",
        "  tiene33 = False\n",
        "  mano = mazo[jugador*3 : (jugador + 1)*3]\n",
        "  sum = 0\n",
        "  for carta in mano:\n",
        "    if (carta == 2 * par): \n",
        "      sum += 1\n",
        "    elif (carta == (2 * par + 1)):\n",
        "        sum +=1\n",
        "  if(sum==2):\n",
        "    tiene33 = True\n",
        "\n",
        "  return tiene33\n",
        "\n",
        "\n",
        "def el_jugador_tiene_33(jugador, mazo): \n",
        "  tiene33 = False\n",
        "  for par in [0,1,2,3]: \n",
        "    if chequear_si_tiene_33(jugador, mazo, par):\n",
        "      tiene33 = True\n",
        "      break\n",
        "  return tiene33\n",
        "\n",
        "\n",
        "N = 2_500_000\n",
        "tres_33_exacto = 0\n",
        "al_menos_tres_33 = 0\n",
        "for n in range(N):\n",
        "  np.random.shuffle(mazo)\n",
        "  jugadores_con_33 = 0\n",
        "  for jugador in range(6): \n",
        "    if el_jugador_tiene_33(jugador, mazo):\n",
        "      jugadores_con_33 += 1\n",
        "  \n",
        "  if jugadores_con_33 == 3:\n",
        "    tres_33_exacto += 1\n",
        "    al_menos_tres_33 += 1\n",
        "  elif jugadores_con_33 == 4:\n",
        "    al_menos_tres_33 += 1\n"
      ],
      "metadata": {
        "id": "1VTg2cLElx5F",
        "colab": {
          "base_uri": "https://localhost:8080/"
        },
        "outputId": "d52044e5-2095-40ca-f897-27c09a768eb0"
      },
      "execution_count": null,
      "outputs": [
        {
          "output_type": "stream",
          "name": "stdout",
          "text": [
            "CPU times: user 2min 51s, sys: 300 ms, total: 2min 52s\n",
            "Wall time: 2min 52s\n"
          ]
        }
      ]
    },
    {
      "cell_type": "code",
      "source": [
        "print(f\"La probabilidad de al menos tres manos con 33 es {al_menos_tres_33/N: .8f}\")\n",
        "print(f\"La probabilidad de exactamente tres manos con 33 es {tres_33_exacto/N: .8f}\")"
      ],
      "metadata": {
        "id": "6cMYBCa7nn9F",
        "colab": {
          "base_uri": "https://localhost:8080/"
        },
        "outputId": "4587acea-9c23-42e3-d9b6-2bb8c5100eb3"
      },
      "execution_count": null,
      "outputs": [
        {
          "output_type": "stream",
          "name": "stdout",
          "text": [
            "La probabilidad de al menos tres manos con 33 es  0.00003720\n",
            "La probabilidad de exactamente tres manos con 33 es  0.00003680\n"
          ]
        }
      ]
    },
    {
      "cell_type": "code",
      "source": [
        ""
      ],
      "metadata": {
        "id": "dJvC4t5nutat"
      },
      "execution_count": null,
      "outputs": []
    }
  ]
}